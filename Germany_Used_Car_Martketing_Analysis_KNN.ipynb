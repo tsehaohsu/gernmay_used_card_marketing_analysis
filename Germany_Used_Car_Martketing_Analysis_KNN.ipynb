{
  "nbformat": 4,
  "nbformat_minor": 0,
  "metadata": {
    "kernelspec": {
      "display_name": "Python 3",
      "language": "python",
      "name": "python3"
    },
    "language_info": {
      "codemirror_mode": {
        "name": "ipython",
        "version": 3
      },
      "file_extension": ".py",
      "mimetype": "text/x-python",
      "name": "python",
      "nbconvert_exporter": "python",
      "pygments_lexer": "ipython3",
      "version": "3.7.4"
    },
    "colab": {
      "name": "Germany_Used_Car_Martketing_Analysis.ipynb",
      "provenance": [],
      "collapsed_sections": []
    }
  },
  "cells": [
    {
      "cell_type": "markdown",
      "metadata": {
        "id": "mvqleD3zZwVw",
        "colab_type": "text"
      },
      "source": [
        "**Download Dataset**\n",
        "\n",
        "---\n",
        "\n",
        "\n",
        "https://www.kaggle.com/orgesleka/used-cars-database/discussion\n",
        "\n",
        "\n",
        "\n"
      ]
    },
    {
      "cell_type": "markdown",
      "metadata": {
        "id": "bsWrEhhULqQk",
        "colab_type": "text"
      },
      "source": [
        "**Import Libraries and Load Dataset**\n",
        "\n",
        "---\n",
        "\n"
      ]
    },
    {
      "cell_type": "code",
      "metadata": {
        "id": "WnFEybwLaIZQ",
        "colab_type": "code",
        "outputId": "38903191-40d4-4bd1-e2ed-c1a1e04999e6",
        "colab": {
          "base_uri": "https://localhost:8080/",
          "height": 128
        }
      },
      "source": [
        "from google.colab import drive\n",
        "drive.mount('/content/drive')"
      ],
      "execution_count": 1,
      "outputs": [
        {
          "output_type": "stream",
          "text": [
            "Go to this URL in a browser: https://accounts.google.com/o/oauth2/auth?client_id=947318989803-6bn6qk8qdgf4n4g3pfee6491hc0brc4i.apps.googleusercontent.com&redirect_uri=urn%3aietf%3awg%3aoauth%3a2.0%3aoob&response_type=code&scope=email%20https%3a%2f%2fwww.googleapis.com%2fauth%2fdocs.test%20https%3a%2f%2fwww.googleapis.com%2fauth%2fdrive%20https%3a%2f%2fwww.googleapis.com%2fauth%2fdrive.photos.readonly%20https%3a%2f%2fwww.googleapis.com%2fauth%2fpeopleapi.readonly\n",
            "\n",
            "Enter your authorization code:\n",
            "··········\n",
            "Mounted at /content/drive\n"
          ],
          "name": "stdout"
        }
      ]
    },
    {
      "cell_type": "code",
      "metadata": {
        "id": "46y-ZskPZwV1",
        "colab_type": "code",
        "colab": {}
      },
      "source": [
        "import numpy as np\n",
        "import pandas as pd\n",
        "import matplotlib.pyplot as plt\n",
        "import seaborn as sns"
      ],
      "execution_count": 0,
      "outputs": []
    },
    {
      "cell_type": "code",
      "metadata": {
        "id": "303Nkh-HZwV8",
        "colab_type": "code",
        "outputId": "1cb77467-df16-4051-df4d-e85babcc004d",
        "colab": {
          "base_uri": "https://localhost:8080/",
          "height": 74
        }
      },
      "source": [
        "# Load dataset\n",
        "df=pd.read_csv('../content/drive/My Drive/autos_clean_zipcode.csv', encoding='Latin-1')"
      ],
      "execution_count": 3,
      "outputs": [
        {
          "output_type": "stream",
          "text": [
            "/usr/local/lib/python3.6/dist-packages/IPython/core/interactiveshell.py:2718: DtypeWarning: Columns (2,15) have mixed types. Specify dtype option on import or set low_memory=False.\n",
            "  interactivity=interactivity, compiler=compiler, result=result)\n"
          ],
          "name": "stderr"
        }
      ]
    },
    {
      "cell_type": "markdown",
      "metadata": {
        "id": "4YKb9z78ZwWX",
        "colab_type": "text"
      },
      "source": [
        "**Exploratory Analysis data**\n",
        "\n",
        "---\n",
        "\n"
      ]
    },
    {
      "cell_type": "code",
      "metadata": {
        "id": "7SE8GEPNZwWB",
        "colab_type": "code",
        "outputId": "ccef680b-c53c-40ec-8414-5c5e47ce4b0a",
        "colab": {
          "base_uri": "https://localhost:8080/",
          "height": 305
        }
      },
      "source": [
        "# Dataset preview\n",
        "df.head()"
      ],
      "execution_count": 4,
      "outputs": [
        {
          "output_type": "execute_result",
          "data": {
            "text/html": [
              "<div>\n",
              "<style scoped>\n",
              "    .dataframe tbody tr th:only-of-type {\n",
              "        vertical-align: middle;\n",
              "    }\n",
              "\n",
              "    .dataframe tbody tr th {\n",
              "        vertical-align: top;\n",
              "    }\n",
              "\n",
              "    .dataframe thead th {\n",
              "        text-align: right;\n",
              "    }\n",
              "</style>\n",
              "<table border=\"1\" class=\"dataframe\">\n",
              "  <thead>\n",
              "    <tr style=\"text-align: right;\">\n",
              "      <th></th>\n",
              "      <th>dateCrawled</th>\n",
              "      <th>name</th>\n",
              "      <th>price</th>\n",
              "      <th>vehicleType</th>\n",
              "      <th>yearOfRegistration</th>\n",
              "      <th>yearOfUsing</th>\n",
              "      <th>gearbox</th>\n",
              "      <th>powerPS</th>\n",
              "      <th>model</th>\n",
              "      <th>kilometer</th>\n",
              "      <th>monthOfRegistration</th>\n",
              "      <th>fuelType</th>\n",
              "      <th>brand</th>\n",
              "      <th>notRepairedDamage</th>\n",
              "      <th>dateCreated</th>\n",
              "      <th>postalCode</th>\n",
              "      <th>lastSeen</th>\n",
              "    </tr>\n",
              "  </thead>\n",
              "  <tbody>\n",
              "    <tr>\n",
              "      <th>0</th>\n",
              "      <td>3/21/2016 21:46</td>\n",
              "      <td>Opel_Corsa_1.2_16V___2_HAND__KLIMA__8_FACH_T?V...</td>\n",
              "      <td>2238</td>\n",
              "      <td>small car</td>\n",
              "      <td>2003</td>\n",
              "      <td>13</td>\n",
              "      <td>manually</td>\n",
              "      <td>75</td>\n",
              "      <td>corsa</td>\n",
              "      <td>125000</td>\n",
              "      <td>5</td>\n",
              "      <td>petrol</td>\n",
              "      <td>opel</td>\n",
              "      <td>not</td>\n",
              "      <td>3/21/2016 0:00</td>\n",
              "      <td>Shahed</td>\n",
              "      <td>3/24/2016 11:46</td>\n",
              "    </tr>\n",
              "    <tr>\n",
              "      <th>1</th>\n",
              "      <td>4/4/2016 23:48</td>\n",
              "      <td>Mercedes_Benz_E_220_T_CDI_Avantgarde</td>\n",
              "      <td>12500</td>\n",
              "      <td>station wagon</td>\n",
              "      <td>2007</td>\n",
              "      <td>9</td>\n",
              "      <td>manually</td>\n",
              "      <td>170</td>\n",
              "      <td>e_klasse</td>\n",
              "      <td>150000</td>\n",
              "      <td>11</td>\n",
              "      <td>diesel</td>\n",
              "      <td>mercedes_benz</td>\n",
              "      <td>not</td>\n",
              "      <td>4/4/2016 0:00</td>\n",
              "      <td>Shahed</td>\n",
              "      <td>4/7/2016 4:16</td>\n",
              "    </tr>\n",
              "    <tr>\n",
              "      <th>2</th>\n",
              "      <td>3/17/2016 0:46</td>\n",
              "      <td>BMW_325_xi_E92_Coupe__EZ_12/2006___6__Gang_Sch...</td>\n",
              "      <td>13299</td>\n",
              "      <td>coupe</td>\n",
              "      <td>2006</td>\n",
              "      <td>10</td>\n",
              "      <td>manually</td>\n",
              "      <td>218</td>\n",
              "      <td>3er</td>\n",
              "      <td>125000</td>\n",
              "      <td>12</td>\n",
              "      <td>petrol</td>\n",
              "      <td>bmw</td>\n",
              "      <td>not</td>\n",
              "      <td>3/16/2016 0:00</td>\n",
              "      <td>Shahed</td>\n",
              "      <td>3/22/2016 10:17</td>\n",
              "    </tr>\n",
              "    <tr>\n",
              "      <th>3</th>\n",
              "      <td>3/29/2016 18:51</td>\n",
              "      <td>BMW_520d_Touring_Xenon_Navi+_PCD_Sport_Comf._1...</td>\n",
              "      <td>17200</td>\n",
              "      <td>station wagon</td>\n",
              "      <td>2012</td>\n",
              "      <td>4</td>\n",
              "      <td>manually</td>\n",
              "      <td>184</td>\n",
              "      <td>5er</td>\n",
              "      <td>150000</td>\n",
              "      <td>1</td>\n",
              "      <td>diesel</td>\n",
              "      <td>bmw</td>\n",
              "      <td>not</td>\n",
              "      <td>3/29/2016 0:00</td>\n",
              "      <td>Shahed</td>\n",
              "      <td>4/6/2016 4:45</td>\n",
              "    </tr>\n",
              "    <tr>\n",
              "      <th>4</th>\n",
              "      <td>3/28/2016 16:45</td>\n",
              "      <td>BMW_635_CSI_Schaltgetriebe_original_Fahrzeug_2...</td>\n",
              "      <td>8000</td>\n",
              "      <td>coupe</td>\n",
              "      <td>1980</td>\n",
              "      <td>36</td>\n",
              "      <td>manually</td>\n",
              "      <td>218</td>\n",
              "      <td>6er</td>\n",
              "      <td>150000</td>\n",
              "      <td>3</td>\n",
              "      <td>petrol</td>\n",
              "      <td>bmw</td>\n",
              "      <td>not</td>\n",
              "      <td>3/28/2016 0:00</td>\n",
              "      <td>Shahed</td>\n",
              "      <td>4/4/2016 19:45</td>\n",
              "    </tr>\n",
              "  </tbody>\n",
              "</table>\n",
              "</div>"
            ],
            "text/plain": [
              "       dateCrawled  ...         lastSeen\n",
              "0  3/21/2016 21:46  ...  3/24/2016 11:46\n",
              "1   4/4/2016 23:48  ...    4/7/2016 4:16\n",
              "2   3/17/2016 0:46  ...  3/22/2016 10:17\n",
              "3  3/29/2016 18:51  ...    4/6/2016 4:45\n",
              "4  3/28/2016 16:45  ...   4/4/2016 19:45\n",
              "\n",
              "[5 rows x 17 columns]"
            ]
          },
          "metadata": {
            "tags": []
          },
          "execution_count": 4
        }
      ]
    },
    {
      "cell_type": "code",
      "metadata": {
        "id": "1nuhdCiNZwWZ",
        "colab_type": "code",
        "outputId": "43cd10ef-cde5-4e8d-b752-f59e132fc332",
        "colab": {
          "base_uri": "https://localhost:8080/",
          "height": 108
        }
      },
      "source": [
        "# Review all column index\n",
        "df.columns.values"
      ],
      "execution_count": 5,
      "outputs": [
        {
          "output_type": "execute_result",
          "data": {
            "text/plain": [
              "array(['dateCrawled', 'name', 'price', 'vehicleType',\n",
              "       'yearOfRegistration', 'yearOfUsing', 'gearbox', 'powerPS', 'model',\n",
              "       'kilometer', 'monthOfRegistration', 'fuelType', 'brand',\n",
              "       'notRepairedDamage', 'dateCreated', 'postalCode', 'lastSeen'],\n",
              "      dtype=object)"
            ]
          },
          "metadata": {
            "tags": []
          },
          "execution_count": 5
        }
      ]
    },
    {
      "cell_type": "code",
      "metadata": {
        "id": "xhf1r9_7ZwWG",
        "colab_type": "code",
        "outputId": "d2f8bcf3-805b-4828-e345-519de730a051",
        "colab": {
          "base_uri": "https://localhost:8080/",
          "height": 35
        }
      },
      "source": [
        "# Number of rows and columns\n",
        "print(df.shape)"
      ],
      "execution_count": 6,
      "outputs": [
        {
          "output_type": "stream",
          "text": [
            "(242109, 17)\n"
          ],
          "name": "stdout"
        }
      ]
    },
    {
      "cell_type": "code",
      "metadata": {
        "scrolled": false,
        "id": "A2NdQsNrZwWT",
        "colab_type": "code",
        "outputId": "3bb57bc4-4b5c-40ef-ce6c-71f6d88b3776",
        "colab": {
          "base_uri": "https://localhost:8080/",
          "height": 345
        }
      },
      "source": [
        "# Check null data\n",
        "df.isnull().sum()"
      ],
      "execution_count": 7,
      "outputs": [
        {
          "output_type": "execute_result",
          "data": {
            "text/plain": [
              "dateCrawled            0\n",
              "name                   0\n",
              "price                  0\n",
              "vehicleType            0\n",
              "yearOfRegistration     0\n",
              "yearOfUsing            0\n",
              "gearbox                0\n",
              "powerPS                0\n",
              "model                  0\n",
              "kilometer              0\n",
              "monthOfRegistration    0\n",
              "fuelType               0\n",
              "brand                  0\n",
              "notRepairedDamage      0\n",
              "dateCreated            0\n",
              "postalCode             0\n",
              "lastSeen               0\n",
              "dtype: int64"
            ]
          },
          "metadata": {
            "tags": []
          },
          "execution_count": 7
        }
      ]
    },
    {
      "cell_type": "code",
      "metadata": {
        "id": "sxbmDWDNZwWM",
        "colab_type": "code",
        "outputId": "86f5348a-66f8-4844-8af9-73972fa72cf6",
        "colab": {
          "base_uri": "https://localhost:8080/",
          "height": 417
        }
      },
      "source": [
        "# Data types\n",
        "df.info()"
      ],
      "execution_count": 8,
      "outputs": [
        {
          "output_type": "stream",
          "text": [
            "<class 'pandas.core.frame.DataFrame'>\n",
            "RangeIndex: 242109 entries, 0 to 242108\n",
            "Data columns (total 17 columns):\n",
            "dateCrawled            242109 non-null object\n",
            "name                   242109 non-null object\n",
            "price                  242109 non-null object\n",
            "vehicleType            242109 non-null object\n",
            "yearOfRegistration     242109 non-null int64\n",
            "yearOfUsing            242109 non-null int64\n",
            "gearbox                242109 non-null object\n",
            "powerPS                242109 non-null int64\n",
            "model                  242109 non-null object\n",
            "kilometer              242109 non-null int64\n",
            "monthOfRegistration    242109 non-null int64\n",
            "fuelType               242109 non-null object\n",
            "brand                  242109 non-null object\n",
            "notRepairedDamage      242109 non-null object\n",
            "dateCreated            242109 non-null object\n",
            "postalCode             242109 non-null object\n",
            "lastSeen               242109 non-null object\n",
            "dtypes: int64(5), object(12)\n",
            "memory usage: 31.4+ MB\n"
          ],
          "name": "stdout"
        }
      ]
    },
    {
      "cell_type": "code",
      "metadata": {
        "id": "qFvXaWjF2OnN",
        "colab_type": "code",
        "colab": {}
      },
      "source": [
        "# We found 'price' is mixed data types with string ('Lower Saxony') and number\n",
        "# Only four rows has 'Lower Saxony' so that we drop them.\n",
        "df_remove = df[df.price == 'Lower Saxony']\n",
        "df= df.drop(df_remove.index)"
      ],
      "execution_count": 0,
      "outputs": []
    },
    {
      "cell_type": "code",
      "metadata": {
        "id": "rziHSMzz4l30",
        "colab_type": "code",
        "colab": {}
      },
      "source": [
        "# Convert price to integer\n",
        "df['price']=df['price'].astype(int)\n",
        "\n",
        "# Convert to str\n",
        "columns = ['yearOfRegistration','monthOfRegistration','postalCode'] \n",
        "for x in columns:\n",
        "  df[x]=df[x].astype(str)"
      ],
      "execution_count": 0,
      "outputs": []
    },
    {
      "cell_type": "code",
      "metadata": {
        "scrolled": true,
        "id": "Z5oxvn8zZwWP",
        "colab_type": "code",
        "outputId": "4af5e4ac-14bf-4173-93a3-93fd6c2c4355",
        "colab": {
          "base_uri": "https://localhost:8080/",
          "height": 288
        }
      },
      "source": [
        "# Data Statistics\n",
        "df.describe()"
      ],
      "execution_count": 11,
      "outputs": [
        {
          "output_type": "execute_result",
          "data": {
            "text/html": [
              "<div>\n",
              "<style scoped>\n",
              "    .dataframe tbody tr th:only-of-type {\n",
              "        vertical-align: middle;\n",
              "    }\n",
              "\n",
              "    .dataframe tbody tr th {\n",
              "        vertical-align: top;\n",
              "    }\n",
              "\n",
              "    .dataframe thead th {\n",
              "        text-align: right;\n",
              "    }\n",
              "</style>\n",
              "<table border=\"1\" class=\"dataframe\">\n",
              "  <thead>\n",
              "    <tr style=\"text-align: right;\">\n",
              "      <th></th>\n",
              "      <th>price</th>\n",
              "      <th>yearOfUsing</th>\n",
              "      <th>powerPS</th>\n",
              "      <th>kilometer</th>\n",
              "    </tr>\n",
              "  </thead>\n",
              "  <tbody>\n",
              "    <tr>\n",
              "      <th>count</th>\n",
              "      <td>242105.000000</td>\n",
              "      <td>242105.000000</td>\n",
              "      <td>242105.000000</td>\n",
              "      <td>242105.000000</td>\n",
              "    </tr>\n",
              "    <tr>\n",
              "      <th>mean</th>\n",
              "      <td>6752.196968</td>\n",
              "      <td>12.385717</td>\n",
              "      <td>129.297173</td>\n",
              "      <td>123789.264988</td>\n",
              "    </tr>\n",
              "    <tr>\n",
              "      <th>std</th>\n",
              "      <td>7656.033019</td>\n",
              "      <td>6.297437</td>\n",
              "      <td>61.339541</td>\n",
              "      <td>39741.321291</td>\n",
              "    </tr>\n",
              "    <tr>\n",
              "      <th>min</th>\n",
              "      <td>200.000000</td>\n",
              "      <td>-1.000000</td>\n",
              "      <td>6.000000</td>\n",
              "      <td>5000.000000</td>\n",
              "    </tr>\n",
              "    <tr>\n",
              "      <th>25%</th>\n",
              "      <td>1700.000000</td>\n",
              "      <td>8.000000</td>\n",
              "      <td>86.000000</td>\n",
              "      <td>100000.000000</td>\n",
              "    </tr>\n",
              "    <tr>\n",
              "      <th>50%</th>\n",
              "      <td>4000.000000</td>\n",
              "      <td>12.000000</td>\n",
              "      <td>116.000000</td>\n",
              "      <td>150000.000000</td>\n",
              "    </tr>\n",
              "    <tr>\n",
              "      <th>75%</th>\n",
              "      <td>8950.000000</td>\n",
              "      <td>16.000000</td>\n",
              "      <td>160.000000</td>\n",
              "      <td>150000.000000</td>\n",
              "    </tr>\n",
              "    <tr>\n",
              "      <th>max</th>\n",
              "      <td>99999.000000</td>\n",
              "      <td>93.000000</td>\n",
              "      <td>1000.000000</td>\n",
              "      <td>150000.000000</td>\n",
              "    </tr>\n",
              "  </tbody>\n",
              "</table>\n",
              "</div>"
            ],
            "text/plain": [
              "               price    yearOfUsing        powerPS      kilometer\n",
              "count  242105.000000  242105.000000  242105.000000  242105.000000\n",
              "mean     6752.196968      12.385717     129.297173  123789.264988\n",
              "std      7656.033019       6.297437      61.339541   39741.321291\n",
              "min       200.000000      -1.000000       6.000000    5000.000000\n",
              "25%      1700.000000       8.000000      86.000000  100000.000000\n",
              "50%      4000.000000      12.000000     116.000000  150000.000000\n",
              "75%      8950.000000      16.000000     160.000000  150000.000000\n",
              "max     99999.000000      93.000000    1000.000000  150000.000000"
            ]
          },
          "metadata": {
            "tags": []
          },
          "execution_count": 11
        }
      ]
    },
    {
      "cell_type": "code",
      "metadata": {
        "id": "3dzYq_gxZwWd",
        "colab_type": "code",
        "outputId": "525fdc5e-995a-441c-fda2-a4f39449209b",
        "colab": {
          "base_uri": "https://localhost:8080/",
          "height": 518
        }
      },
      "source": [
        "# Looking at the frequency of most popular Car Brand\n",
        "plt.rcParams['figure.figsize'] = (18, 7)\n",
        "color = plt.cm.copper(np.linspace(0, 1, 40))\n",
        "df.brand.value_counts().head(40).plot.bar(color = color)\n",
        "plt.title('frequency of most popular items', fontsize = 20)\n",
        "plt.xticks(rotation = 90 )\n",
        "plt.grid()\n",
        "plt.show()"
      ],
      "execution_count": 12,
      "outputs": [
        {
          "output_type": "display_data",
          "data": {
            "image/png": "[encoded data removed]",
            "text/plain": [
              "<Figure size 1296x504 with 1 Axes>"
            ]
          },
          "metadata": {
            "tags": []
          }
        }
      ]
    },
    {
      "cell_type": "code",
      "metadata": {
        "id": "3DacLOIFZwWg",
        "colab_type": "code",
        "outputId": "40ef1a74-99f6-4354-fa3a-526f8b2d3b96",
        "colab": {
          "base_uri": "https://localhost:8080/",
          "height": 348
        }
      },
      "source": [
        "y = df.brand.value_counts().to_frame()\n",
        "y.head(10)"
      ],
      "execution_count": 13,
      "outputs": [
        {
          "output_type": "execute_result",
          "data": {
            "text/html": [
              "<div>\n",
              "<style scoped>\n",
              "    .dataframe tbody tr th:only-of-type {\n",
              "        vertical-align: middle;\n",
              "    }\n",
              "\n",
              "    .dataframe tbody tr th {\n",
              "        vertical-align: top;\n",
              "    }\n",
              "\n",
              "    .dataframe thead th {\n",
              "        text-align: right;\n",
              "    }\n",
              "</style>\n",
              "<table border=\"1\" class=\"dataframe\">\n",
              "  <thead>\n",
              "    <tr style=\"text-align: right;\">\n",
              "      <th></th>\n",
              "      <th>brand</th>\n",
              "    </tr>\n",
              "  </thead>\n",
              "  <tbody>\n",
              "    <tr>\n",
              "      <th>volkswagen</th>\n",
              "      <td>51443</td>\n",
              "    </tr>\n",
              "    <tr>\n",
              "      <th>bmw</th>\n",
              "      <td>29175</td>\n",
              "    </tr>\n",
              "    <tr>\n",
              "      <th>mercedes_benz</th>\n",
              "      <td>25526</td>\n",
              "    </tr>\n",
              "    <tr>\n",
              "      <th>opel</th>\n",
              "      <td>24321</td>\n",
              "    </tr>\n",
              "    <tr>\n",
              "      <th>audi</th>\n",
              "      <td>22699</td>\n",
              "    </tr>\n",
              "    <tr>\n",
              "      <th>ford</th>\n",
              "      <td>16094</td>\n",
              "    </tr>\n",
              "    <tr>\n",
              "      <th>renault</th>\n",
              "      <td>10546</td>\n",
              "    </tr>\n",
              "    <tr>\n",
              "      <th>peugeot</th>\n",
              "      <td>7412</td>\n",
              "    </tr>\n",
              "    <tr>\n",
              "      <th>fiat</th>\n",
              "      <td>5093</td>\n",
              "    </tr>\n",
              "    <tr>\n",
              "      <th>seat</th>\n",
              "      <td>4758</td>\n",
              "    </tr>\n",
              "  </tbody>\n",
              "</table>\n",
              "</div>"
            ],
            "text/plain": [
              "               brand\n",
              "volkswagen     51443\n",
              "bmw            29175\n",
              "mercedes_benz  25526\n",
              "opel           24321\n",
              "audi           22699\n",
              "ford           16094\n",
              "renault        10546\n",
              "peugeot         7412\n",
              "fiat            5093\n",
              "seat            4758"
            ]
          },
          "metadata": {
            "tags": []
          },
          "execution_count": 13
        }
      ]
    },
    {
      "cell_type": "code",
      "metadata": {
        "id": "xgmZaTnM3Wa7",
        "colab_type": "code",
        "outputId": "95e2bf9f-7cde-4d48-9555-fea8eac0c9c5",
        "colab": {
          "base_uri": "https://localhost:8080/",
          "height": 145
        }
      },
      "source": [
        "y.index"
      ],
      "execution_count": 14,
      "outputs": [
        {
          "output_type": "execute_result",
          "data": {
            "text/plain": [
              "Index(['volkswagen', 'bmw', 'mercedes_benz', 'opel', 'audi', 'ford', 'renault',\n",
              "       'peugeot', 'fiat', 'seat', 'skoda', 'mazda', 'toyota', 'citroen',\n",
              "       'nissan', 'smart', 'mini', 'hyundai', 'volvo', 'mitsubishi', 'honda',\n",
              "       'kia', 'suzuki', 'chevrolet', 'porsche', 'chrysler', 'dacia',\n",
              "       'land_rover', 'jeep', 'alfa_romeo', 'subaru', 'daihatsu', 'yesguar',\n",
              "       'saab', 'lancia', 'daewoo', 'rover', 'lada', 'trabant'],\n",
              "      dtype='object')"
            ]
          },
          "metadata": {
            "tags": []
          },
          "execution_count": 14
        }
      ]
    },
    {
      "cell_type": "code",
      "metadata": {
        "id": "oVtHnJ5Cdm50",
        "colab_type": "code",
        "outputId": "8a9fd6d0-c05a-40aa-afc1-e3e67b2456e7",
        "colab": {
          "base_uri": "https://localhost:8080/",
          "height": 897
        }
      },
      "source": [
        "# Visualization for data statistic distribution\n",
        "plt.figure()\n",
        "df.hist(figsize=(15,15),bins=20)\n",
        "plt.show()"
      ],
      "execution_count": 15,
      "outputs": [
        {
          "output_type": "display_data",
          "data": {
            "text/plain": [
              "<Figure size 1296x504 with 0 Axes>"
            ]
          },
          "metadata": {
            "tags": []
          }
        },
        {
          "output_type": "display_data",
          "data": {
            "image/png": "[encoded data removed]",
            "text/plain": [
              "<Figure size 1080x1080 with 4 Axes>"
            ]
          },
          "metadata": {
            "tags": []
          }
        }
      ]
    },
    {
      "cell_type": "code",
      "metadata": {
        "id": "u2sOA59QeHj-",
        "colab_type": "code",
        "outputId": "0b285633-7130-475d-f3c8-67ff5175ec07",
        "colab": {
          "base_uri": "https://localhost:8080/",
          "height": 168
        }
      },
      "source": [
        "# Correlation table\n",
        "corMat = df.corr(method='pearson')\n",
        "corMat"
      ],
      "execution_count": 16,
      "outputs": [
        {
          "output_type": "execute_result",
          "data": {
            "text/html": [
              "<div>\n",
              "<style scoped>\n",
              "    .dataframe tbody tr th:only-of-type {\n",
              "        vertical-align: middle;\n",
              "    }\n",
              "\n",
              "    .dataframe tbody tr th {\n",
              "        vertical-align: top;\n",
              "    }\n",
              "\n",
              "    .dataframe thead th {\n",
              "        text-align: right;\n",
              "    }\n",
              "</style>\n",
              "<table border=\"1\" class=\"dataframe\">\n",
              "  <thead>\n",
              "    <tr style=\"text-align: right;\">\n",
              "      <th></th>\n",
              "      <th>price</th>\n",
              "      <th>yearOfUsing</th>\n",
              "      <th>powerPS</th>\n",
              "      <th>kilometer</th>\n",
              "    </tr>\n",
              "  </thead>\n",
              "  <tbody>\n",
              "    <tr>\n",
              "      <th>price</th>\n",
              "      <td>1.000000</td>\n",
              "      <td>-0.504308</td>\n",
              "      <td>0.581624</td>\n",
              "      <td>-0.484205</td>\n",
              "    </tr>\n",
              "    <tr>\n",
              "      <th>yearOfUsing</th>\n",
              "      <td>-0.504308</td>\n",
              "      <td>1.000000</td>\n",
              "      <td>-0.211585</td>\n",
              "      <td>0.424714</td>\n",
              "    </tr>\n",
              "    <tr>\n",
              "      <th>powerPS</th>\n",
              "      <td>0.581624</td>\n",
              "      <td>-0.211585</td>\n",
              "      <td>1.000000</td>\n",
              "      <td>-0.013872</td>\n",
              "    </tr>\n",
              "    <tr>\n",
              "      <th>kilometer</th>\n",
              "      <td>-0.484205</td>\n",
              "      <td>0.424714</td>\n",
              "      <td>-0.013872</td>\n",
              "      <td>1.000000</td>\n",
              "    </tr>\n",
              "  </tbody>\n",
              "</table>\n",
              "</div>"
            ],
            "text/plain": [
              "                price  yearOfUsing   powerPS  kilometer\n",
              "price        1.000000    -0.504308  0.581624  -0.484205\n",
              "yearOfUsing -0.504308     1.000000 -0.211585   0.424714\n",
              "powerPS      0.581624    -0.211585  1.000000  -0.013872\n",
              "kilometer   -0.484205     0.424714 -0.013872   1.000000"
            ]
          },
          "metadata": {
            "tags": []
          },
          "execution_count": 16
        }
      ]
    },
    {
      "cell_type": "code",
      "metadata": {
        "id": "kB-yzn-NedJm",
        "colab_type": "code",
        "outputId": "849fac51-b775-45e6-a852-1d84ebcd49a8",
        "colab": {
          "base_uri": "https://localhost:8080/",
          "height": 428
        }
      },
      "source": [
        "# Heat map\n",
        "plt.figure()\n",
        "sns.heatmap(corMat, square=True)\n",
        "plt.show()"
      ],
      "execution_count": 17,
      "outputs": [
        {
          "output_type": "display_data",
          "data": {
            "image/png": "[encoded data removed]",
            "text/plain": [
              "<Figure size 1296x504 with 2 Axes>"
            ]
          },
          "metadata": {
            "tags": []
          }
        }
      ]
    },
    {
      "cell_type": "markdown",
      "metadata": {
        "id": "c7maPDT0lgo6",
        "colab_type": "text"
      },
      "source": [
        "**Feature Engineering**\n",
        "---\n",
        "\n"
      ]
    },
    {
      "cell_type": "code",
      "metadata": {
        "id": "blTeKDGFllPG",
        "colab_type": "code",
        "outputId": "eaf70f3b-1d05-4cf2-ff9d-0364a1c9b3f2",
        "colab": {
          "base_uri": "https://localhost:8080/",
          "height": 108
        }
      },
      "source": [
        "# Review all column index\n",
        "df.columns.values"
      ],
      "execution_count": 18,
      "outputs": [
        {
          "output_type": "execute_result",
          "data": {
            "text/plain": [
              "array(['dateCrawled', 'name', 'price', 'vehicleType',\n",
              "       'yearOfRegistration', 'yearOfUsing', 'gearbox', 'powerPS', 'model',\n",
              "       'kilometer', 'monthOfRegistration', 'fuelType', 'brand',\n",
              "       'notRepairedDamage', 'dateCreated', 'postalCode', 'lastSeen'],\n",
              "      dtype=object)"
            ]
          },
          "metadata": {
            "tags": []
          },
          "execution_count": 18
        }
      ]
    },
    {
      "cell_type": "code",
      "metadata": {
        "id": "WXkPWyFfmRKq",
        "colab_type": "code",
        "outputId": "28e69276-b130-4b5d-ef5a-54795a2ab577",
        "colab": {
          "base_uri": "https://localhost:8080/",
          "height": 72
        }
      },
      "source": [
        "# Drop not important columns\n",
        "df_new = df.drop(['dateCrawled', 'name', 'yearOfRegistration', 'monthOfRegistration', 'dateCreated', 'lastSeen'],axis=1)\n",
        "df_new.columns.values"
      ],
      "execution_count": 19,
      "outputs": [
        {
          "output_type": "execute_result",
          "data": {
            "text/plain": [
              "array(['price', 'vehicleType', 'yearOfUsing', 'gearbox', 'powerPS',\n",
              "       'model', 'kilometer', 'fuelType', 'brand', 'notRepairedDamage',\n",
              "       'postalCode'], dtype=object)"
            ]
          },
          "metadata": {
            "tags": []
          },
          "execution_count": 19
        }
      ]
    },
    {
      "cell_type": "code",
      "metadata": {
        "id": "0cxJTIdJnX1g",
        "colab_type": "code",
        "outputId": "33b7a5b1-d943-4988-fd3c-0e1e830a45da",
        "colab": {
          "base_uri": "https://localhost:8080/",
          "height": 198
        }
      },
      "source": [
        "# Label Encoding\n",
        "from sklearn.preprocessing import LabelEncoder, OneHotEncoder\n",
        "columns = ['vehicleType', 'gearbox', 'model', 'fuelType', 'brand', 'notRepairedDamage', 'postalCode']\n",
        "le = LabelEncoder()\n",
        "df_new[columns] = df_new[columns].apply(lambda x: le.fit_transform(x))\n",
        "\n",
        "df_new.head()"
      ],
      "execution_count": 20,
      "outputs": [
        {
          "output_type": "execute_result",
          "data": {
            "text/html": [
              "<div>\n",
              "<style scoped>\n",
              "    .dataframe tbody tr th:only-of-type {\n",
              "        vertical-align: middle;\n",
              "    }\n",
              "\n",
              "    .dataframe tbody tr th {\n",
              "        vertical-align: top;\n",
              "    }\n",
              "\n",
              "    .dataframe thead th {\n",
              "        text-align: right;\n",
              "    }\n",
              "</style>\n",
              "<table border=\"1\" class=\"dataframe\">\n",
              "  <thead>\n",
              "    <tr style=\"text-align: right;\">\n",
              "      <th></th>\n",
              "      <th>price</th>\n",
              "      <th>vehicleType</th>\n",
              "      <th>yearOfUsing</th>\n",
              "      <th>gearbox</th>\n",
              "      <th>powerPS</th>\n",
              "      <th>model</th>\n",
              "      <th>kilometer</th>\n",
              "      <th>fuelType</th>\n",
              "      <th>brand</th>\n",
              "      <th>notRepairedDamage</th>\n",
              "      <th>postalCode</th>\n",
              "    </tr>\n",
              "  </thead>\n",
              "  <tbody>\n",
              "    <tr>\n",
              "      <th>0</th>\n",
              "      <td>2238</td>\n",
              "      <td>5</td>\n",
              "      <td>13</td>\n",
              "      <td>1</td>\n",
              "      <td>75</td>\n",
              "      <td>69</td>\n",
              "      <td>125000</td>\n",
              "      <td>6</td>\n",
              "      <td>23</td>\n",
              "      <td>0</td>\n",
              "      <td>6472</td>\n",
              "    </tr>\n",
              "    <tr>\n",
              "      <th>1</th>\n",
              "      <td>12500</td>\n",
              "      <td>6</td>\n",
              "      <td>9</td>\n",
              "      <td>1</td>\n",
              "      <td>170</td>\n",
              "      <td>82</td>\n",
              "      <td>150000</td>\n",
              "      <td>1</td>\n",
              "      <td>19</td>\n",
              "      <td>0</td>\n",
              "      <td>6472</td>\n",
              "    </tr>\n",
              "    <tr>\n",
              "      <th>2</th>\n",
              "      <td>13299</td>\n",
              "      <td>2</td>\n",
              "      <td>10</td>\n",
              "      <td>1</td>\n",
              "      <td>218</td>\n",
              "      <td>5</td>\n",
              "      <td>125000</td>\n",
              "      <td>6</td>\n",
              "      <td>2</td>\n",
              "      <td>0</td>\n",
              "      <td>6472</td>\n",
              "    </tr>\n",
              "    <tr>\n",
              "      <th>3</th>\n",
              "      <td>17200</td>\n",
              "      <td>6</td>\n",
              "      <td>4</td>\n",
              "      <td>1</td>\n",
              "      <td>184</td>\n",
              "      <td>8</td>\n",
              "      <td>150000</td>\n",
              "      <td>1</td>\n",
              "      <td>2</td>\n",
              "      <td>0</td>\n",
              "      <td>6472</td>\n",
              "    </tr>\n",
              "    <tr>\n",
              "      <th>4</th>\n",
              "      <td>8000</td>\n",
              "      <td>2</td>\n",
              "      <td>36</td>\n",
              "      <td>1</td>\n",
              "      <td>218</td>\n",
              "      <td>10</td>\n",
              "      <td>150000</td>\n",
              "      <td>6</td>\n",
              "      <td>2</td>\n",
              "      <td>0</td>\n",
              "      <td>6472</td>\n",
              "    </tr>\n",
              "  </tbody>\n",
              "</table>\n",
              "</div>"
            ],
            "text/plain": [
              "   price  vehicleType  yearOfUsing  ...  brand  notRepairedDamage  postalCode\n",
              "0   2238            5           13  ...     23                  0        6472\n",
              "1  12500            6            9  ...     19                  0        6472\n",
              "2  13299            2           10  ...      2                  0        6472\n",
              "3  17200            6            4  ...      2                  0        6472\n",
              "4   8000            2           36  ...      2                  0        6472\n",
              "\n",
              "[5 rows x 11 columns]"
            ]
          },
          "metadata": {
            "tags": []
          },
          "execution_count": 20
        }
      ]
    },
    {
      "cell_type": "code",
      "metadata": {
        "id": "6IxL8zwAN9y1",
        "colab_type": "code",
        "outputId": "c5198331-ebdc-4c25-9463-d6c0f8ec1b37",
        "colab": {
          "base_uri": "https://localhost:8080/",
          "height": 308
        }
      },
      "source": [
        "df_new.info()"
      ],
      "execution_count": 21,
      "outputs": [
        {
          "output_type": "stream",
          "text": [
            "<class 'pandas.core.frame.DataFrame'>\n",
            "Int64Index: 242105 entries, 0 to 242108\n",
            "Data columns (total 11 columns):\n",
            "price                242105 non-null int64\n",
            "vehicleType          242105 non-null int64\n",
            "yearOfUsing          242105 non-null int64\n",
            "gearbox              242105 non-null int64\n",
            "powerPS              242105 non-null int64\n",
            "model                242105 non-null int64\n",
            "kilometer            242105 non-null int64\n",
            "fuelType             242105 non-null int64\n",
            "brand                242105 non-null int64\n",
            "notRepairedDamage    242105 non-null int64\n",
            "postalCode           242105 non-null int64\n",
            "dtypes: int64(11)\n",
            "memory usage: 22.2 MB\n"
          ],
          "name": "stdout"
        }
      ]
    },
    {
      "cell_type": "code",
      "metadata": {
        "id": "c3fh_8aluzLC",
        "colab_type": "code",
        "colab": {}
      },
      "source": [
        "# One Hot Encoding\n",
        "# df_new = pd.get_dummies(df_new[['price','vehicleType','yearOfUsing','gearbox','powerPS','model','fuelType','brand','notRepairedDamage']])"
      ],
      "execution_count": 0,
      "outputs": []
    },
    {
      "cell_type": "markdown",
      "metadata": {
        "id": "8Gb9uQxVDIYO",
        "colab_type": "text"
      },
      "source": [
        "**Split Dataset**\n",
        "\n",
        "\n",
        "---\n",
        "\n"
      ]
    },
    {
      "cell_type": "code",
      "metadata": {
        "id": "76N2_eykDLa2",
        "colab_type": "code",
        "colab": {}
      },
      "source": [
        "from sklearn.model_selection import train_test_split\n",
        "X= df_new.drop(['price'], axis=1)\n",
        "y =df_new['price']\n",
        "\n",
        "X_train, X_test, y_train, y_test = train_test_split(X,y, test_size=0.3, random_state=1)"
      ],
      "execution_count": 0,
      "outputs": []
    },
    {
      "cell_type": "markdown",
      "metadata": {
        "id": "aK9Xgg85dL11",
        "colab_type": "text"
      },
      "source": [
        "**KNN Regression**\n",
        "\n",
        "\n",
        "---\n",
        "\n"
      ]
    },
    {
      "cell_type": "code",
      "metadata": {
        "id": "p0GpHm7-ZwWn",
        "colab_type": "code",
        "colab": {}
      },
      "source": [
        "from sklearn import neighbors\n",
        "from sklearn.metrics import mean_squared_error \n",
        "from math import sqrt"
      ],
      "execution_count": 0,
      "outputs": []
    },
    {
      "cell_type": "code",
      "metadata": {
        "id": "MBsDAKcMG7XR",
        "colab_type": "code",
        "outputId": "5dd934c3-63c7-4045-b576-752b3e74c18b",
        "colab": {
          "base_uri": "https://localhost:8080/",
          "height": 417
        }
      },
      "source": [
        "# Checnk K from 1 to 20\n",
        "rmse_val = []\n",
        "for K in range(20):\n",
        "    K = K+1\n",
        "    model = neighbors.KNeighborsRegressor(n_neighbors = K)\n",
        "    model.fit(X_train, y_train) \n",
        "    y_pred=model.predict(X_test)\n",
        "    error = sqrt(mean_squared_error(y_test,y_pred))\n",
        "    rmse_val.append(error)\n",
        "    print('RMSE value for k= ' , K , 'is:', error)\n",
        "\n",
        "print('\\nWhen k is',rmse_val.index(min(rmse_val))+1, 'we can get minimum RMSE:', min(rmse_val))    "
      ],
      "execution_count": 25,
      "outputs": [
        {
          "output_type": "stream",
          "text": [
            "RMSE value for k=  1 is: 4979.083620730316\n",
            "RMSE value for k=  2 is: 4639.4695260430935\n",
            "RMSE value for k=  3 is: 4511.547261620518\n",
            "RMSE value for k=  4 is: 4457.800532148259\n",
            "RMSE value for k=  5 is: 4446.4365010197225\n",
            "RMSE value for k=  6 is: 4446.592946786112\n",
            "RMSE value for k=  7 is: 4444.9174576671785\n",
            "RMSE value for k=  8 is: 4444.5148207438915\n",
            "RMSE value for k=  9 is: 4447.485179544738\n",
            "RMSE value for k=  10 is: 4455.54721489346\n",
            "RMSE value for k=  11 is: 4467.10948983663\n",
            "RMSE value for k=  12 is: 4479.778886598858\n",
            "RMSE value for k=  13 is: 4495.478204768784\n",
            "RMSE value for k=  14 is: 4506.629204576699\n",
            "RMSE value for k=  15 is: 4518.263685895295\n",
            "RMSE value for k=  16 is: 4532.454073668732\n",
            "RMSE value for k=  17 is: 4548.850189172047\n",
            "RMSE value for k=  18 is: 4561.336844808742\n",
            "RMSE value for k=  19 is: 4572.244096040852\n",
            "RMSE value for k=  20 is: 4582.587956341021\n",
            "\n",
            "When k is 8 we can get minimum RMSE: 4444.5148207438915\n"
          ],
          "name": "stdout"
        }
      ]
    },
    {
      "cell_type": "markdown",
      "metadata": {
        "id": "PpG017X-8dQf",
        "colab_type": "text"
      },
      "source": [
        "**Reference**\n",
        "\n",
        "\n",
        "---\n",
        "\n"
      ]
    },
    {
      "cell_type": "markdown",
      "metadata": {
        "id": "8LDkh2J2uhX-",
        "colab_type": "text"
      },
      "source": [
        "*   https://chrisalbon.com/python/data_wrangling/pandas_list_unique_values_in_column/\n",
        "*   https://cmdlinetips.com/2019/10/how-to-drop-rows-based-on-a-column-value-in-pandas-dataframe/\n",
        "*   https://www.analyticsvidhya.com/blog/2018/08/k-nearest-neighbor-introduction-regression-python/\n",
        "\n"
      ]
    }
  ]
}